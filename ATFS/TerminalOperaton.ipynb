{
 "cells": [
  {
   "cell_type": "code",
   "execution_count": 11,
   "metadata": {},
   "outputs": [
    {
     "name": "stdout",
     "output_type": "stream",
     "text": [
      "Collecting moment\n",
      "  Downloading moment-0.7.tar.gz\n",
      "Requirement already satisfied: pytz>=2016.4 in /root/.virtualenvs/p27/lib/python2.7/site-packages (from moment)\n",
      "Collecting times (from moment)\n",
      "  Downloading times-0.7-py2.py3-none-any.whl\n",
      "Collecting arrow (from times->moment)\n",
      "  Downloading arrow-0.10.0.tar.gz (86kB)\n",
      "\u001b[K    100% |████████████████████████████████| 92kB 1.1MB/s eta 0:00:01\n",
      "\u001b[?25hRequirement already satisfied: python-dateutil in /root/.virtualenvs/p27/lib/python2.7/site-packages (from arrow->times->moment)\n",
      "Requirement already satisfied: six>=1.5 in /root/.virtualenvs/p27/lib/python2.7/site-packages (from python-dateutil->arrow->times->moment)\n",
      "Building wheels for collected packages: moment, arrow\n",
      "  Running setup.py bdist_wheel for moment ... \u001b[?25ldone\n",
      "\u001b[?25h  Stored in directory: /root/.cache/pip/wheels/ee/12/05/b5e342ac46e2a2957c7238e6d4b94d47157e5266e26533ba48\n",
      "  Running setup.py bdist_wheel for arrow ... \u001b[?25ldone\n",
      "\u001b[?25h  Stored in directory: /root/.cache/pip/wheels/f0/4d/9b/692f17c2b531f0435ec1a73d6f936a4c0c252f23b66d5755e6\n",
      "Successfully built moment arrow\n",
      "Installing collected packages: arrow, times, moment\n",
      "Successfully installed arrow-0.10.0 moment-0.7 times-0.7\n",
      "AFTS_01.ipynb  TerminalOperaton.ipynb\n",
      "\n",
      "chapter1:\n",
      "text\n",
      "total 464K\n",
      "-rw-r--r-- 1 root root 460K Jun 23 13:54 d-ibm3dx7008.txt\n"
     ]
    }
   ],
   "source": [
    "# !pip install moment\n",
    "#!mkdir -p ./chapter1/text/\n",
    "#!wget https://github.com/strengthening/AFTS/raw/master/chapter1/text/d-ibm3dx7008.txt -O ./chapter1/text/d-ibm3dx7008.txt\n",
    "\n",
    "!ls *\n",
    "!ls ./chapter1/text/ -lh"
   ]
  }
 ],
 "metadata": {
  "kernelspec": {
   "display_name": "Python 3",
   "language": "python",
   "name": "python3"
  },
  "language_info": {
   "codemirror_mode": {
    "name": "ipython",
    "version": 3
   },
   "file_extension": ".py",
   "mimetype": "text/x-python",
   "name": "python",
   "nbconvert_exporter": "python",
   "pygments_lexer": "ipython3",
   "version": "3.5.2"
  }
 },
 "nbformat": 4,
 "nbformat_minor": 2
}
