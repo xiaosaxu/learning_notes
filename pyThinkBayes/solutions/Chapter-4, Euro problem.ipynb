{
 "cells": [
  {
   "cell_type": "markdown",
   "metadata": {},
   "source": [
    "## Introduction:\n",
    "\n",
    "- Any given coin has some probability, x, of landing heads up when spun on edge. \n",
    "\n",
    "- It seems reasonable to believe that the value of x depends on some physical characteristics of the coin, primarily the distribution of weight.\n",
    "\n",
    "- If a coin is perfectly balanced, we expect x to be close to 50%, but for a lopsided coin, x might be substantially different. \n",
    "\n",
    "- We can use Bayes’s theorem and the observed data to estimate x.\n",
    "\n",
    "The issue is that we wanna check if the coin is biased or not by checking weather it is fair or not .. \n",
    "\n",
    "### Steps:\n",
    "1. Estimate the probability that the coin lands face up. \n",
    "2. Evaluate whether the data support the hypothesis that the coin is biased."
   ]
  },
  {
   "cell_type": "code",
   "execution_count": 37,
   "metadata": {
    "collapsed": true
   },
   "outputs": [],
   "source": [
    "import euro\n",
    "import thinkbayes\n",
    "import matplotlib.pyplot as plt\n",
    "% matplotlib inline "
   ]
  },
  {
   "cell_type": "code",
   "execution_count": 2,
   "metadata": {},
   "outputs": [
    {
     "name": "stdout",
     "output_type": "stream",
     "text": [
      "Writing euro2.pdf\n",
      "Writing euro2.eps\n",
      "0.0209765261295\n",
      "MLE 56\n",
      "Mean 55.9523809524\n",
      "Median 56\n",
      "5th %ile 51\n",
      "95th %ile 61\n",
      "CI (51, 61)\n",
      "0.0238475372147\n",
      "MLE 56\n",
      "Mean 55.7434994386\n",
      "Median 56\n",
      "5th %ile 51\n",
      "95th %ile 61\n",
      "CI (51, 61)\n",
      "Writing euro1.pdf\n",
      "Writing euro1.eps\n",
      "Writing euro3.pdf\n",
      "Writing euro3.eps\n"
     ]
    }
   ],
   "source": [
    "euro.main()"
   ]
  },
  {
   "cell_type": "markdown",
   "metadata": {
    "collapsed": true
   },
   "source": [
    "- Let's make the check ourselves step by step .. \n",
    "\n",
    "- Let’s define 101 hypotheses, where Hx is the hypothesis that the probability of heads is x%, for values from 0 to 100.\n",
    "- Intially, the perior is uniform .. where all values have the same probability .. \n",
    "- The likelihood function is relatively easy ==> If Hx is true, the probability of heads is x/100 and the probability of tails is 1 − x/100.\n"
   ]
  },
  {
   "cell_type": "code",
   "execution_count": 3,
   "metadata": {
    "collapsed": true
   },
   "outputs": [],
   "source": [
    "dataset = 'H'*140 + 'T'*110"
   ]
  },
  {
   "cell_type": "code",
   "execution_count": 4,
   "metadata": {
    "collapsed": true
   },
   "outputs": [],
   "source": [
    "class Euro():\n",
    "    suite = euro.UniformPrior()  # suite is 1001 elements \n",
    "    def Likelihood(self, data, hypo):\n",
    "        x = hypo #x (heads) is out concern \n",
    "        if data == 'H':\n",
    "            return x/100.0 #prob of heads\n",
    "        else: \n",
    "            return 1 - (x/100.0)"
   ]
  },
  {
   "cell_type": "code",
   "execution_count": 5,
   "metadata": {},
   "outputs": [
    {
     "data": {
      "text/plain": [
       "<__main__.Euro instance at 0x7f148d7f1f38>"
      ]
     },
     "execution_count": 5,
     "metadata": {},
     "output_type": "execute_result"
    }
   ],
   "source": [
    "Euro()"
   ]
  },
  {
   "cell_type": "code",
   "execution_count": 6,
   "metadata": {
    "collapsed": true
   },
   "outputs": [],
   "source": [
    "euro.RunUpdate(Euro.suite)"
   ]
  },
  {
   "cell_type": "markdown",
   "metadata": {},
   "source": [
    "- You can find the posterior distribution by finding the maximum likelihood function (i.e. the value with the highest probability) \n",
    "\n",
    "- Suite is the pmf .. hence, we can call Maximum likelihood function with it .. "
   ]
  },
  {
   "cell_type": "code",
   "execution_count": 7,
   "metadata": {
    "collapsed": true
   },
   "outputs": [],
   "source": [
    "## it returns the value with the highest probability.\n",
    "\n",
    "def MaximumLikelihood(pmf):\n",
    "    prob, val = max((prob, val) for val, prob in pmf.Items())\n",
    "    return val"
   ]
  },
  {
   "cell_type": "code",
   "execution_count": 8,
   "metadata": {},
   "outputs": [
    {
     "data": {
      "text/plain": [
       "56"
      ]
     },
     "execution_count": 8,
     "metadata": {},
     "output_type": "execute_result"
    }
   ],
   "source": [
    "MaximumLikelihood(Euro.suite)"
   ]
  },
  {
   "cell_type": "markdown",
   "metadata": {},
   "source": [
    "Make sense ! :D \n",
    "    \n",
    "the result is 56, which is also the observed percentage of heads, 140/250 = 56%. "
   ]
  },
  {
   "cell_type": "code",
   "execution_count": 9,
   "metadata": {},
   "outputs": [
    {
     "data": {
      "text/plain": [
       "(55.952380952380956, 56, (51, 61))"
      ]
     },
     "execution_count": 9,
     "metadata": {},
     "output_type": "execute_result"
    }
   ],
   "source": [
    "## mean, median and CI ..\n",
    "\n",
    "Euro.suite.Mean(), thinkbayes.Percentile(Euro.suite, 50), thinkbayes.CredibleInterval(Euro.suite, 90)"
   ]
  },
  {
   "cell_type": "markdown",
   "metadata": {},
   "source": [
    "the posterior credible interval does not include 50%, which suggests that the coin is not fair !!\n",
    "\n",
    "### wait a minute .. \n",
    "\n",
    "we are not interested in checking whether the coin is fair or not .. but biased or not .. \n",
    "hence, it might be tempting to ask for the probability that x is 50%"
   ]
  },
  {
   "cell_type": "code",
   "execution_count": 10,
   "metadata": {},
   "outputs": [
    {
     "data": {
      "text/plain": [
       "0.02097652612954468"
      ]
     },
     "execution_count": 10,
     "metadata": {},
     "output_type": "execute_result"
    }
   ],
   "source": [
    "Euro.suite.Prob(50)"
   ]
  },
  {
   "cell_type": "markdown",
   "metadata": {},
   "source": [
    " almost meaningless value !\n",
    " \n",
    " Thus, we could have divided the range into more or fewer pieces, and if we had, the probability for any given hypothesis would be greater or less."
   ]
  },
  {
   "cell_type": "markdown",
   "metadata": {
    "collapsed": true
   },
   "source": [
    "## Swapping the perior:\n",
    "\n",
    "Let's try other perior probabilities instead of uniform .. cause it doesn't make sense to use uniform parior if the coin is lopsided (prob. of each side is not 50% but 10% or 90%) .. \n",
    "\n",
    "Hence, we gonna choose a prior that gives higher prob. near 50% and lower at the extremes .. "
   ]
  },
  {
   "cell_type": "code",
   "execution_count": 33,
   "metadata": {
    "collapsed": true
   },
   "outputs": [],
   "source": [
    "def Traingle_perior():\n",
    "    suite = euro.Euro()\n",
    "    \n",
    "    for i in range(0, 51):\n",
    "        suite.Set(i, i)\n",
    "    for i in range(52, 101):    \n",
    "        suite.Set(i, 100 - i)\n",
    "    suite.Normalize()\n",
    "    \n",
    "    return suite"
   ]
  },
  {
   "cell_type": "code",
   "execution_count": 34,
   "metadata": {},
   "outputs": [
    {
     "data": {
      "text/plain": [
       "<euro.Euro at 0x7f148d641e90>"
      ]
     },
     "execution_count": 34,
     "metadata": {},
     "output_type": "execute_result"
    }
   ],
   "source": [
    "s = Traingle_perior()\n",
    "s"
   ]
  },
  {
   "cell_type": "code",
   "execution_count": 46,
   "metadata": {},
   "outputs": [
    {
     "name": "stdout",
     "output_type": "stream",
     "text": [
      "6.66022198907e-09\n",
      "MLE 56\n",
      "Mean 55.9728405408\n",
      "Median 56\n",
      "5th %ile 54\n",
      "95th %ile 58\n",
      "CI (54, 58)\n"
     ]
    }
   ],
   "source": [
    "euro.RunUpdate(s)\n",
    "euro.Summarize(s)"
   ]
  },
  {
   "cell_type": "markdown",
   "metadata": {},
   "source": [
    "Swamping the priors means -with enough data- people who start with different priors will tend to converge on the same posterior."
   ]
  },
  {
   "cell_type": "code",
   "execution_count": null,
   "metadata": {
    "collapsed": true
   },
   "outputs": [],
   "source": []
  }
 ],
 "metadata": {
  "kernelspec": {
   "display_name": "Python 2",
   "language": "python",
   "name": "python2"
  },
  "language_info": {
   "codemirror_mode": {
    "name": "ipython",
    "version": 2
   },
   "file_extension": ".py",
   "mimetype": "text/x-python",
   "name": "python",
   "nbconvert_exporter": "python",
   "pygments_lexer": "ipython2",
   "version": "2.7.12"
  }
 },
 "nbformat": 4,
 "nbformat_minor": 2
}
