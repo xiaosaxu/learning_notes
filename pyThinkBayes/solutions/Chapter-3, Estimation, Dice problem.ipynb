{
 "cells": [
  {
   "cell_type": "markdown",
   "metadata": {},
   "source": [
    "Let's implement the dice problem with 4 types of dices (S-sided, 6-sided, 8-sided and 12-sided) .. \n",
    "\n",
    "As usual .. the only -big- change will be in likelihood function .. "
   ]
  },
  {
   "cell_type": "code",
   "execution_count": 3,
   "metadata": {},
   "outputs": [],
   "source": [
    "import dice"
   ]
  },
  {
   "cell_type": "code",
   "execution_count": 1,
   "metadata": {
    "collapsed": true
   },
   "outputs": [],
   "source": [
    "def likelihood(data, hypo): # hypo is the hypothesis \n",
    "    if hypo < data:\n",
    "        return 0\n",
    "    else: \n",
    "        return 1.0/hypo "
   ]
  },
  {
   "cell_type": "markdown",
   "metadata": {},
   "source": [
    "Let's call the built in function .. "
   ]
  },
  {
   "cell_type": "code",
   "execution_count": 4,
   "metadata": {},
   "outputs": [
    {
     "name": "stdout",
     "output_type": "stream",
     "text": [
      "After one 6\n",
      "4 0.0\n",
      "6 0.392156862745\n",
      "8 0.294117647059\n",
      "12 0.196078431373\n",
      "20 0.117647058824\n",
      "After more rolls\n",
      "4 0.0\n",
      "6 0.0\n",
      "8 0.915845271969\n",
      "12 0.080403425797\n",
      "20 0.00375130223399\n"
     ]
    }
   ],
   "source": [
    "dice.main()"
   ]
  },
  {
   "cell_type": "markdown",
   "metadata": {},
   "source": [
    "after many rolls .. the probability of 9-sided dice increases ! .. \n",
    "\n",
    "why is that ?!!"
   ]
  },
  {
   "cell_type": "markdown",
   "metadata": {},
   "source": [
    "After we roll a 6, the probability for the 4-sided die is 0. The most likely\n",
    "alternative is the 6-sided die, but there is still almost a 12% chance for the\n",
    "20-sided die."
   ]
  },
  {
   "cell_type": "code",
   "execution_count": null,
   "metadata": {
    "collapsed": true
   },
   "outputs": [],
   "source": []
  }
 ],
 "metadata": {
  "kernelspec": {
   "display_name": "Python 2",
   "language": "python",
   "name": "python2"
  },
  "language_info": {
   "codemirror_mode": {
    "name": "ipython",
    "version": 2
   },
   "file_extension": ".py",
   "mimetype": "text/x-python",
   "name": "python",
   "nbconvert_exporter": "python",
   "pygments_lexer": "ipython2",
   "version": "2.7.12"
  }
 },
 "nbformat": 4,
 "nbformat_minor": 2
}
