{
 "cells": [
  {
   "cell_type": "markdown",
   "metadata": {},
   "source": [
    "The rules about when a view on the data is returned are entirely dependent on NumPy.\n",
    "\n",
    "Whenever an array of labels or a boolean vector are involved in the indexing operation, \n",
    "the result will be a copy. \n",
    "\n",
    "With single label / scalar indexing and slicing, e.g. df.ix[3:6] or df.ix[:, 'A'], \n",
    "a view will be returned."
   ]
  },
  {
   "cell_type": "code",
   "execution_count": null,
   "metadata": {
    "collapsed": true
   },
   "outputs": [],
   "source": [
    "\n"
   ]
  }
 ],
 "metadata": {
  "kernelspec": {
   "display_name": "Python 3",
   "language": "python",
   "name": "python3"
  },
  "language_info": {
   "codemirror_mode": {
    "name": "ipython",
    "version": 3
   },
   "file_extension": ".py",
   "mimetype": "text/x-python",
   "name": "python",
   "nbconvert_exporter": "python",
   "pygments_lexer": "ipython3",
   "version": "3.5.2"
  }
 },
 "nbformat": 4,
 "nbformat_minor": 2
}
